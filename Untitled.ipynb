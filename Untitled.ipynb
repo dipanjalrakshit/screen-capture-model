{
 "cells": [
  {
   "cell_type": "code",
   "execution_count": null,
   "metadata": {},
   "outputs": [],
   "source": [
    "!pip install pyscreenshot"
   ]
  },
  {
   "cell_type": "code",
   "execution_count": null,
   "metadata": {},
   "outputs": [],
   "source": [
    "def screen_capture():\n",
    "    \n",
    "    import pyscreenshot as ImageGrab\n",
    "    import time\n",
    "    images_folder=\"capture_images/3/\"\n",
    "    \n",
    "    for i in range(0,100):\n",
    "        \n",
    "        time.sleep(10)\n",
    "        im=ImageGrab.grab(bbox=(60,187,400,550))\n",
    "        print(\"saved.......\",i)\n",
    "        im.save(images_folder+str(i)+'.png')\n",
    "        print(\"Draw again now .......\")\n",
    "screen_capture()\n"
   ]
  },
  {
   "cell_type": "code",
   "execution_count": null,
   "metadata": {},
   "outputs": [],
   "source": []
  }
 ],
 "metadata": {
  "kernelspec": {
   "display_name": "Python 3",
   "language": "python",
   "name": "python3"
  },
  "language_info": {
   "codemirror_mode": {
    "name": "ipython",
    "version": 3
   },
   "file_extension": ".py",
   "mimetype": "text/x-python",
   "name": "python",
   "nbconvert_exporter": "python",
   "pygments_lexer": "ipython3",
   "version": "3.8.0"
  }
 },
 "nbformat": 4,
 "nbformat_minor": 4
}
