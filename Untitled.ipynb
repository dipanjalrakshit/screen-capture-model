{
 "cells": [
  {
   "cell_type": "code",
   "execution_count": null,
   "source": [],
   "outputs": [],
   "metadata": {}
  },
  {
   "cell_type": "code",
   "execution_count": null,
   "source": [
    "def screen_capture():\r\n",
    "    \r\n",
    "    import pyscreenshot as ImageGrab\r\n",
    "    import time\r\n",
    "    images_folder=\"capture_images/3/\"\r\n",
    "    \r\n",
    "    for i in range(0,100):\r\n",
    "        \r\n",
    "        time.sleep(10)\r\n",
    "        im=ImageGrab.grab(bbox=(60,187,400,550))\r\n",
    "        print(\"saved.......\",i)\r\n",
    "        im.save(images_folder+str(i)+'.png')\r\n",
    "        print(\"Draw again now .......\")\r\n",
    "screen_capture()\r\n"
   ],
   "outputs": [],
   "metadata": {}
  },
  {
   "cell_type": "code",
   "execution_count": null,
   "source": [],
   "outputs": [],
   "metadata": {}
  }
 ],
 "metadata": {
  "kernelspec": {
   "display_name": "Python 3",
   "language": "python",
   "name": "python3"
  },
  "language_info": {
   "codemirror_mode": {
    "name": "ipython",
    "version": 3
   },
   "file_extension": ".py",
   "mimetype": "text/x-python",
   "name": "python",
   "nbconvert_exporter": "python",
   "pygments_lexer": "ipython3",
   "version": "3.8.0"
  }
 },
 "nbformat": 4,
 "nbformat_minor": 4
}